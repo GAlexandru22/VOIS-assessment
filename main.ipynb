{
 "cells": [
  {
   "cell_type": "code",
   "id": "initial_id",
   "metadata": {
    "collapsed": true
   },
   "source": [
    "import numpy as np\n",
    "import tensorflow as tf\n",
    "import pandas as pd\n",
    "import os\n",
    "from models.MHG_model import modelDefinition\n",
    "from models.MHG_model import trainModel"
   ],
   "outputs": [],
   "execution_count": null
  },
  {
   "metadata": {},
   "cell_type": "code",
   "source": [
    "#Reading the data\n",
    "csv_file = pd.read_csv(\"./data/data.csv\").values\n",
    "\n",
    "# Shuffling the data to not overfeed our model\n",
    "np.random.shuffle(csv_file)\n",
    "#Prepare the data from the labels\n",
    "x_data = np.concatenate((csv_file[:, 0].reshape(-1, 1),csv_file[:, 2:9], csv_file[:, 10].reshape(-1, 1)),axis=1)\n",
    "y_data = csv_file[:, 9]\n",
    "\n",
    "#Separate the training data from the test data\n",
    "x_train = x_data[:int(0.8 * len(x_data)), :]\n",
    "y_train = y_data[:int(0.8 * len(y_data))]\n",
    "\n",
    "x_test = x_data[int(0.8 * len(x_data)):, :]\n",
    "y_test = y_data[int(0.8 * len(y_data)):]\n",
    "x_train = x_train.astype('float32')\n",
    "x_test = x_test.astype('float32')\n",
    "y_train = y_train.astype('float32')\n",
    "y_test = y_test.astype('float32')\n"
   ],
   "id": "ca29782288fc86f1",
   "outputs": [],
   "execution_count": null
  },
  {
   "metadata": {},
   "cell_type": "code",
   "source": [
    "model = trainModel(x_train, y_train)\n",
    "\n"
   ],
   "id": "88c36140aa8f4959",
   "outputs": [],
   "execution_count": null
  },
  {
   "metadata": {},
   "cell_type": "code",
   "source": "",
   "id": "ce5a0874d30dfcf3",
   "outputs": [],
   "execution_count": null
  },
  {
   "metadata": {},
   "cell_type": "code",
   "source": "",
   "id": "2bef2e704feb16e",
   "outputs": [],
   "execution_count": null
  }
 ],
 "metadata": {
  "kernelspec": {
   "display_name": "Python 3",
   "language": "python",
   "name": "python3"
  },
  "language_info": {
   "codemirror_mode": {
    "name": "ipython",
    "version": 2
   },
   "file_extension": ".py",
   "mimetype": "text/x-python",
   "name": "python",
   "nbconvert_exporter": "python",
   "pygments_lexer": "ipython2",
   "version": "2.7.6"
  }
 },
 "nbformat": 4,
 "nbformat_minor": 5
}
