{
 "cells": [
  {
   "cell_type": "code",
   "id": "initial_id",
   "metadata": {
    "collapsed": true
   },
   "source": [
    "import numpy as np\n",
    "import tensorflow as tf\n",
    "import pandas as pd\n",
    "import os\n",
    "from models.MHG_model import modelDefinition\n",
    "from models.MHG_model import trainModel"
   ],
   "outputs": [],
   "execution_count": null
  },
  {
   "metadata": {},
   "cell_type": "code",
   "source": [
    "#Reading the data\n",
    "csv_file = pd.read_csv(\"./data/data.csv\").values\n",
    "\n",
    "# Shuffling the data to not overfeed our model\n",
    "np.random.shuffle(csv_file)\n",
    "#Prepare the data from the labels\n",
    "x_data = np.concatenate((csv_file[:, 0].reshape(-1, 1),csv_file[:, 2:9], csv_file[:, 10].reshape(-1, 1)),axis=1)\n",
    "y_data = csv_file[:, 9]\n",
    "\n",
    "#Separate the training data from the test data\n",
    "x_train = x_data[:int(0.8 * len(x_data)), :]\n",
    "y_train = y_data[:int(0.8 * len(y_data))]\n",
    "\n",
    "x_test = x_data[int(0.8 * len(x_data)):, :]\n",
    "y_test = y_data[int(0.8 * len(y_data)):]\n",
    "x_train = x_train.astype('float32')\n",
    "x_test = x_test.astype('float32')\n",
    "y_train = y_train.astype('float32')\n",
    "y_test = y_test.astype('float32')\n"
   ],
   "id": "ca29782288fc86f1",
   "outputs": [],
   "execution_count": null
  },
  {
   "metadata": {},
   "cell_type": "code",
   "source": [
    "#training the first model\n",
    "model = trainModel(x_train, y_train, x_test, y_test)"
   ],
   "id": "88c36140aa8f4959",
   "outputs": [],
   "execution_count": null
  },
  {
   "metadata": {},
   "cell_type": "code",
   "source": [
    "#adding the path to the saved checkpoints\n",
    "checkpoint_path = 'checkpoints/MHG.ckpt'\n",
    "cp_dir = os.path.dirname(checkpoint_path)\n",
    "cp_callback = tf.keras.callbacks.ModelCheckpoint(filepath=checkpoint_path, verbose= 1)"
   ],
   "id": "2095fe2f1d00ddd5",
   "outputs": [],
   "execution_count": null
  },
  {
   "metadata": {},
   "cell_type": "code",
   "source": "",
   "id": "6e5008b9ef81d605",
   "outputs": [],
   "execution_count": null
  },
  {
   "metadata": {},
   "cell_type": "code",
   "source": "",
   "id": "e546ec8b5482441",
   "outputs": [],
   "execution_count": null
  }
 ],
 "metadata": {
  "kernelspec": {
   "display_name": "Python 3",
   "language": "python",
   "name": "python3"
  },
  "language_info": {
   "codemirror_mode": {
    "name": "ipython",
    "version": 2
   },
   "file_extension": ".py",
   "mimetype": "text/x-python",
   "name": "python",
   "nbconvert_exporter": "python",
   "pygments_lexer": "ipython2",
   "version": "2.7.6"
  }
 },
 "nbformat": 4,
 "nbformat_minor": 5
}
